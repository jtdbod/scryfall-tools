{
 "cells": [
  {
   "cell_type": "code",
   "execution_count": 92,
   "metadata": {},
   "outputs": [
    {
     "name": "stderr",
     "output_type": "stream",
     "text": [
      "c:\\src\\scryfall-tools\\.venv\\Lib\\site-packages\\urllib3\\connectionpool.py:1097: InsecureRequestWarning: Unverified HTTPS request is being made to host 'api.scryfall.com'. Adding certificate verification is strongly advised. See: https://urllib3.readthedocs.io/en/latest/advanced-usage.html#tls-warnings\n",
      "  warnings.warn(\n"
     ]
    },
    {
     "name": "stdout",
     "output_type": "stream",
     "text": [
      "Aatchik, Emerald Radian \t\t\t 0.23\n",
      "Aatchik, Emerald Radian \t\t\t 0.58\n",
      "Afterburner Expert \t\t\t 0.44\n",
      "Afterburner Expert \t\t\t 0.46\n",
      "Agonasaur Rex \t\t\t 1.07\n",
      "Agonasaur Rex \t\t\t 1.08\n",
      "Basri, Tomorrow's Champion \t\t\t 0.24\n",
      "Basri, Tomorrow's Champion \t\t\t 0.28\n",
      "Bloodghast \t\t\t 0.78\n",
      "Bloodghast \t\t\t 1.17\n",
      "Boommobile \t\t\t 0.17\n",
      "Boommobile \t\t\t 0.20\n",
      "Boommobile \t\t\t None\n",
      "Bulwark Ox \t\t\t 0.25\n",
      "Bulwark Ox \t\t\t 0.21\n",
      "Bulwark Ox \t\t\t None\n",
      "Burnout Bashtronaut \t\t\t 0.35\n",
      "Burnout Bashtronaut \t\t\t 0.39\n",
      "Captain Howler, Sea Scourge \t\t\t 0.38\n",
      "Captain Howler, Sea Scourge \t\t\t 1.05\n",
      "Caradora, Heart of Alacria \t\t\t 0.18\n",
      "Caradora, Heart of Alacria \t\t\t 0.19\n",
      "Coalstoke Gearhulk \t\t\t 0.91\n",
      "Coalstoke Gearhulk \t\t\t 1.73\n",
      "Count on Luck \t\t\t 0.36\n",
      "Count on Luck \t\t\t 0.26\n",
      "Cryptcaller Chariot \t\t\t 0.57\n",
      "Cryptcaller Chariot \t\t\t 0.99\n",
      "Cursecloth Wrappings \t\t\t 0.34\n",
      "Cursecloth Wrappings \t\t\t 0.46\n",
      "Daretti, Rocketeer Engineer \t\t\t 0.19\n",
      "Daretti, Rocketeer Engineer \t\t\t 0.28\n",
      "Debris Beetle \t\t\t 0.19\n",
      "Debris Beetle \t\t\t 0.28\n",
      "Demonic Junker \t\t\t 0.39\n",
      "Demonic Junker \t\t\t 0.45\n",
      "District Mascot \t\t\t 0.47\n",
      "District Mascot \t\t\t 0.54\n",
      "Draconautics Engineer \t\t\t 0.97\n",
      "Draconautics Engineer \t\t\t 0.68\n",
      "Explosive Getaway \t\t\t 0.09\n",
      "Explosive Getaway \t\t\t 0.13\n",
      "Explosive Getaway \t\t\t None\n",
      "Far Fortune, End Boss \t\t\t 0.13\n",
      "Far Fortune, End Boss \t\t\t 0.23\n",
      "Fearless Swashbuckler \t\t\t 0.13\n",
      "Fearless Swashbuckler \t\t\t 0.29\n",
      "Fearless Swashbuckler \t\t\t None\n",
      "Gas Guzzler \t\t\t 0.22\n",
      "Gas Guzzler \t\t\t 0.33\n",
      "Gastal Thrillroller \t\t\t 0.12\n",
      "Gastal Thrillroller \t\t\t 0.24\n",
      "Gastal Thrillroller \t\t\t None\n",
      "Gonti, Night Minister \t\t\t 0.47\n",
      "Gonti, Night Minister \t\t\t 1.09\n",
      "Guardian Sunmare \t\t\t 0.35\n",
      "Guardian Sunmare \t\t\t 0.29\n",
      "Hazoret, Godseeker \t\t\t 1.35\n",
      "Howlsquad Heavy \t\t\t 1.00\n",
      "Howlsquad Heavy \t\t\t 1.31\n",
      "Kolodin, Triumph Caster \t\t\t 0.20\n",
      "Kolodin, Triumph Caster \t\t\t 0.29\n",
      "Lifecraft Engine \t\t\t 0.27\n",
      "Lifecraft Engine \t\t\t 0.34\n",
      "Lifecraft Engine \t\t\t None\n",
      "Loot, the Pathfinder \t\t\t 1.99\n",
      "Lumbering Worldwagon \t\t\t 0.64\n",
      "Lumbering Worldwagon \t\t\t 0.60\n",
      "Lumbering Worldwagon \t\t\t None\n",
      "Marketback Walker \t\t\t 0.89\n",
      "Marketback Walker \t\t\t 1.09\n",
      "Mendicant Core, Guidelight \t\t\t 0.86\n",
      "Mimeoplasm, Revered One \t\t\t 0.38\n",
      "Mimeoplasm, Revered One \t\t\t 0.65\n",
      "Mindspring Merfolk \t\t\t 0.48\n",
      "Mindspring Merfolk \t\t\t 0.41\n",
      "Muraganda Raceway \t\t\t 1.12\n",
      "Muraganda Raceway \t\t\t 1.40\n",
      "Muraganda Raceway \t\t\t None\n",
      "Mu Yanling, Wind Rider \t\t\t 0.87\n",
      "Mu Yanling, Wind Rider \t\t\t 1.13\n",
      "Oviya, Automech Artisan \t\t\t 0.92\n",
      "Oviya, Automech Artisan \t\t\t 1.32\n",
      "Perilous Snare \t\t\t 0.24\n",
      "Perilous Snare \t\t\t 0.32\n",
      "Possession Engine \t\t\t 0.12\n",
      "Possession Engine \t\t\t 0.22\n",
      "Possession Engine \t\t\t None\n",
      "Pyrewood Gearhulk \t\t\t 1.12\n",
      "Pyrewood Gearhulk \t\t\t 1.68\n",
      "Quag Feast \t\t\t 0.19\n",
      "Quag Feast \t\t\t 0.25\n",
      "Redshift, Rocketeer Chief \t\t\t 0.24\n",
      "Redshift, Rocketeer Chief \t\t\t 0.42\n",
      "Regal Imperiosaur \t\t\t 0.53\n",
      "Regal Imperiosaur \t\t\t 0.85\n",
      "Repurposing Bay \t\t\t 1.67\n",
      "Riverchurn Monument \t\t\t 0.55\n",
      "Riverchurn Monument \t\t\t 0.53\n",
      "Samut, the Driving Force \t\t\t 0.18\n",
      "Samut, the Driving Force \t\t\t 0.34\n",
      "Sita Varma, Masked Racer \t\t\t 0.11\n",
      "Sita Varma, Masked Racer \t\t\t 0.21\n",
      "Sita Varma, Masked Racer \t\t\t None\n",
      "Skyseer's Chariot \t\t\t 0.13\n",
      "Skyseer's Chariot \t\t\t 0.18\n",
      "Skyseer's Chariot \t\t\t None\n",
      "Spectacular Pileup \t\t\t 0.42\n",
      "Spectacular Pileup \t\t\t 0.55\n",
      "The Last Ride \t\t\t 0.63\n",
      "The Last Ride \t\t\t 0.99\n",
      "Thopter Fabricator \t\t\t 0.48\n",
      "Thopter Fabricator \t\t\t 0.53\n",
      "Valor's Flagship \t\t\t 1.44\n",
      "Valor's Flagship \t\t\t 1.68\n",
      "Vnwxt, Verbose Host \t\t\t 0.43\n",
      "Vnwxt, Verbose Host \t\t\t 0.86\n",
      "Voyager Glidecar \t\t\t 0.22\n",
      "Voyager Glidecar \t\t\t 0.36\n",
      "Waxen Shapethief \t\t\t 0.43\n",
      "Waxen Shapethief \t\t\t 0.48\n",
      "Webstrike Elite \t\t\t 0.26\n",
      "Webstrike Elite \t\t\t 0.24\n",
      "Winter, Cursed Rider \t\t\t 0.15\n",
      "Winter, Cursed Rider \t\t\t 0.23\n",
      "Zahur, Glory's Past \t\t\t 0.25\n",
      "Zahur, Glory's Past \t\t\t 0.51\n"
     ]
    }
   ],
   "source": [
    "import requests\n",
    "import time\n",
    "import certifi\n",
    "import pandas as pd\n",
    "\n",
    "base_url = \"https://api.scryfall.com/\"\n",
    "\n",
    "SET = 'dft'\n",
    "PRICE = 2\n",
    "search_query = f\"s:{SET} usd<{PRICE} unique:prints -type:basic r>u\"\n",
    "search_url = f\"{base_url}cards/search?q={search_query}\"\n",
    "headers = {\n",
    "        \"User-Agent\": \"scyrfall_tools/1.0 (jackson.travis.do@gmail.com)\"  # Replace with your app name and email\n",
    "    }\n",
    "\n",
    "card_list = pd.DataFrame({'name':[],\n",
    "                   'price':[], \n",
    "                   'fullart':[], \n",
    "                   'frame':[], \n",
    "                   'frame_effects': [], \n",
    "                   'border_color':[]\n",
    "                   })\n",
    "\n",
    "while search_url:\n",
    "    response = requests.get(search_url, headers=headers, verify=False)\n",
    "    if response.status_code == 200:\n",
    "        data = response.json()\n",
    "        \n",
    "        # Print the names of the cards found in this page\n",
    "        for card in data['data']:\n",
    "            print(f\"{card['name']} \\t\\t\\t {card['prices']['usd']}\")\n",
    "            #for key in card.keys():\n",
    "            #    if key not in df.columns:\n",
    "            #        df[key] = None\n",
    "            entry = {'name':card['name'], 'price':card['prices']['usd'], 'fullart':card['full_art'], 'frame':card['frame'], 'border_color':card['border_color']}\n",
    "            if 'frame_effect' in card.keys():\n",
    "                entry['frame_effect'] = card['frame_effect']\n",
    "            card_list = pd.concat([card_list, pd.DataFrame([entry])], ignore_index=True)\n",
    "        search_url = data.get('next_page', None)\n",
    "        time.sleep(0.1)\n",
    "    else:\n",
    "        print(\"Error:\", response.status_code, response.json().get(\"details\"))\n",
    "\n",
    "\n",
    "\n"
   ]
  },
  {
   "cell_type": "code",
   "execution_count": 96,
   "metadata": {},
   "outputs": [],
   "source": [
    "# Generate list for TCGplayer\n",
    "\n",
    "def get_tcgplayer_name(card):\n",
    "    entry = card['name']\n",
    "    if card['frame_effects'] == 'showcase':\n",
    "        entry = f\"{entry} (Showcase)\"\n",
    "    if card['frame'] == '1997':\n",
    "        entry = f\"{entry} (Retro)\"\n",
    "    if card['border_color'] == 'borderless':\n",
    "        entry = f\"{entry} (Borderless)\"\n",
    "    return entry\n",
    "\n",
    "buylist = pd.DataFrame()\n",
    "\n",
    "for name in card_list['name'].unique():\n",
    "    cards = card_list[card_list['name']==name]\n",
    "    for index,card in cards.iterrows():\n",
    "        entry = get_tcgplayer_name(card)\n",
    "        buylist = pd.concat([buylist, pd.DataFrame([{'Quantity': 1, 'Name':entry, 'Price':card['price']}])], ignore_index=True)\n",
    "\n",
    "    if len(cards) < 3:\n",
    "        # Find cheapest printing\n",
    "        to_add = cards[cards['name']==name].loc[cards['price'].idxmin()]\n",
    "        buylist.loc[buylist['Name']==get_tcgplayer_name(to_add), 'Quantity'] += 1\n",
    "        buylist = buylist.sort_values(by=\"Name\")"
   ]
  },
  {
   "cell_type": "code",
   "execution_count": 101,
   "metadata": {},
   "outputs": [
    {
     "data": {
      "text/plain": [
       "np.float64(98.31)"
      ]
     },
     "execution_count": 101,
     "metadata": {},
     "output_type": "execute_result"
    }
   ],
   "source": [
    "buylist['Total Price'] = buylist['Quantity'].astype(int)*buylist['Price'].astype(float)\n",
    "buylist['Total Price'].sum()"
   ]
  },
  {
   "cell_type": "code",
   "execution_count": 78,
   "metadata": {},
   "outputs": [
    {
     "data": {
      "text/plain": [
       "1"
      ]
     },
     "execution_count": 78,
     "metadata": {},
     "output_type": "execute_result"
    }
   ],
   "source": [
    "len(buylist[buylist['Name']=='Zealous Conscripts'])"
   ]
  },
  {
   "cell_type": "code",
   "execution_count": 13,
   "metadata": {},
   "outputs": [
    {
     "data": {
      "text/plain": [
       "True"
      ]
     },
     "execution_count": 13,
     "metadata": {},
     "output_type": "execute_result"
    }
   ],
   "source": [
    "card['foil']"
   ]
  },
  {
   "cell_type": "code",
   "execution_count": null,
   "metadata": {},
   "outputs": [],
   "source": []
  }
 ],
 "metadata": {
  "kernelspec": {
   "display_name": ".venv",
   "language": "python",
   "name": "python3"
  },
  "language_info": {
   "codemirror_mode": {
    "name": "ipython",
    "version": 3
   },
   "file_extension": ".py",
   "mimetype": "text/x-python",
   "name": "python",
   "nbconvert_exporter": "python",
   "pygments_lexer": "ipython3",
   "version": "3.12.9"
  }
 },
 "nbformat": 4,
 "nbformat_minor": 2
}
